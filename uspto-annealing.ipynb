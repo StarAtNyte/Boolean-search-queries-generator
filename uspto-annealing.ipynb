{
 "cells": [
  {
   "cell_type": "code",
   "execution_count": 1,
   "id": "e7bc34cb",
   "metadata": {
    "_cell_guid": "b1076dfc-b9ad-4769-8c92-a6c4dae69d19",
    "_uuid": "8f2839f25d086af736a60e9eeb907d3b93b6e0e5",
    "execution": {
     "iopub.execute_input": "2024-07-08T13:13:25.948436Z",
     "iopub.status.busy": "2024-07-08T13:13:25.947603Z",
     "iopub.status.idle": "2024-07-08T13:13:59.027418Z",
     "shell.execute_reply": "2024-07-08T13:13:59.026525Z"
    },
    "papermill": {
     "duration": 33.090643,
     "end_time": "2024-07-08T13:13:59.029939",
     "exception": false,
     "start_time": "2024-07-08T13:13:25.939296",
     "status": "completed"
    },
    "tags": []
   },
   "outputs": [
    {
     "name": "stdout",
     "output_type": "stream",
     "text": [
      "Processing /kaggle/input/whoosh-wheel-2-7-4/Whoosh-2.7.4-py2.py3-none-any.whl\r\n",
      "Requirement already satisfied: cached-property in /opt/conda/lib/python3.10/site-packages (from Whoosh==2.7.4) (1.5.2)\r\n",
      "Installing collected packages: Whoosh\r\n",
      "Successfully installed Whoosh-2.7.4\r\n"
     ]
    }
   ],
   "source": [
    "!pip install /kaggle/input/whoosh-wheel-2-7-4/Whoosh-2.7.4-py2.py3-none-any.whl"
   ]
  },
  {
   "cell_type": "markdown",
   "id": "0919221e",
   "metadata": {
    "papermill": {
     "duration": 0.006496,
     "end_time": "2024-07-08T13:13:59.043645",
     "exception": false,
     "start_time": "2024-07-08T13:13:59.037149",
     "status": "completed"
    },
    "tags": []
   },
   "source": [
    "# Create Test Index"
   ]
  },
  {
   "cell_type": "code",
   "execution_count": 2,
   "id": "9f699790",
   "metadata": {
    "execution": {
     "iopub.execute_input": "2024-07-08T13:13:59.058399Z",
     "iopub.status.busy": "2024-07-08T13:13:59.057788Z",
     "iopub.status.idle": "2024-07-08T13:14:30.341339Z",
     "shell.execute_reply": "2024-07-08T13:14:30.340598Z"
    },
    "papermill": {
     "duration": 31.293569,
     "end_time": "2024-07-08T13:14:30.343660",
     "exception": false,
     "start_time": "2024-07-08T13:13:59.050091",
     "status": "completed"
    },
    "tags": []
   },
   "outputs": [
    {
     "name": "stdout",
     "output_type": "stream",
     "text": [
      "Processing /kaggle/input/whoosh-wheel-2-7-4/Whoosh-2.7.4-py2.py3-none-any.whl\n",
      "Requirement already satisfied: cached-property in /opt/conda/lib/python3.10/site-packages (from Whoosh==2.7.4) (1.5.2)\n",
      "Whoosh is already installed with the same version as the provided wheel. Use --force-reinstall to force an installation of the wheel.\n"
     ]
    }
   ],
   "source": [
    "# Import necessary libraries\n",
    "from pathlib import Path\n",
    "import polars as pl\n",
    "from tqdm import tqdm\n",
    "import whoosh_utils"
   ]
  },
  {
   "cell_type": "code",
   "execution_count": 3,
   "id": "f4f85ede",
   "metadata": {
    "execution": {
     "iopub.execute_input": "2024-07-08T13:14:30.359147Z",
     "iopub.status.busy": "2024-07-08T13:14:30.358481Z",
     "iopub.status.idle": "2024-07-08T13:14:35.737060Z",
     "shell.execute_reply": "2024-07-08T13:14:35.736057Z"
    },
    "papermill": {
     "duration": 5.388802,
     "end_time": "2024-07-08T13:14:35.739500",
     "exception": false,
     "start_time": "2024-07-08T13:14:30.350698",
     "status": "completed"
    },
    "tags": []
   },
   "outputs": [],
   "source": [
    "comp_data_dir = Path(\"/kaggle/input/uspto-explainable-ai\")\n",
    "\n",
    "# Extract year and month from publication date, \n",
    "# filter for patents since 1975, rename a column, and collect the results.\n",
    "\n",
    "meta = pl.scan_parquet(comp_data_dir / \"patent_metadata.parquet\")\n",
    "\n",
    "meta = (\n",
    "        meta.with_columns(\n",
    "            pl.col(\"publication_date\").dt.year().alias(\"year\"),\n",
    "            pl.col(\"publication_date\").dt.month().alias(\"month\"),\n",
    "        )\n",
    "    .filter(pl.col(\"publication_date\") >= pl.date(1975,1,1))\n",
    "    .rename({\"cpc_codes\":\"cpc\"})\n",
    "    .collect()\n",
    ")\n",
    "    "
   ]
  },
  {
   "cell_type": "code",
   "execution_count": 4,
   "id": "2b5006f3",
   "metadata": {
    "execution": {
     "iopub.execute_input": "2024-07-08T13:14:35.755039Z",
     "iopub.status.busy": "2024-07-08T13:14:35.754761Z",
     "iopub.status.idle": "2024-07-08T13:14:35.900000Z",
     "shell.execute_reply": "2024-07-08T13:14:35.899028Z"
    },
    "papermill": {
     "duration": 0.155659,
     "end_time": "2024-07-08T13:14:35.902447",
     "exception": false,
     "start_time": "2024-07-08T13:14:35.746788",
     "status": "completed"
    },
    "tags": []
   },
   "outputs": [],
   "source": [
    "#test_nn.melt() reshapes the LazyFrame from wide format to long format, converting all columns into rows under two columns: \"variable\" and \"value\".\n",
    "test_nn = pl.scan_csv(comp_data_dir / \"test.csv\")\n",
    "all_pub = test_nn.melt().collect().get_column(\"value\").unique()\n",
    "meta = meta.filter(pl.col(\"publication_number\").is_in(all_pub))"
   ]
  },
  {
   "cell_type": "code",
   "execution_count": 5,
   "id": "a0a305e1",
   "metadata": {
    "execution": {
     "iopub.execute_input": "2024-07-08T13:14:35.917663Z",
     "iopub.status.busy": "2024-07-08T13:14:35.917165Z",
     "iopub.status.idle": "2024-07-08T13:14:35.931245Z",
     "shell.execute_reply": "2024-07-08T13:14:35.930415Z"
    },
    "papermill": {
     "duration": 0.023661,
     "end_time": "2024-07-08T13:14:35.933223",
     "exception": false,
     "start_time": "2024-07-08T13:14:35.909562",
     "status": "completed"
    },
    "tags": []
   },
   "outputs": [
    {
     "data": {
      "text/html": [
       "<div><style>\n",
       ".dataframe > thead > tr,\n",
       ".dataframe > tbody > tr {\n",
       "  text-align: right;\n",
       "  white-space: pre-wrap;\n",
       "}\n",
       "</style>\n",
       "<small>shape: (5, 7)</small><table border=\"1\" class=\"dataframe\"><thead><tr><th>publication_number</th><th>publication_date</th><th>filing_date</th><th>family_id</th><th>cpc</th><th>year</th><th>month</th></tr><tr><td>str</td><td>datetime[μs]</td><td>datetime[μs]</td><td>f64</td><td>list[str]</td><td>i32</td><td>i8</td></tr></thead><tbody><tr><td>&quot;US-10015385-B2…</td><td>2018-07-03 00:00:00</td><td>2017-05-18 00:00:00</td><td>5.246991e7</td><td>[&quot;H04N21/4223&quot;, &quot;H04N21/4227&quot;, … &quot;H04N7/183&quot;]</td><td>2018</td><td>7</td></tr><tr><td>&quot;US-10075387-B1…</td><td>2018-09-11 00:00:00</td><td>2015-06-03 00:00:00</td><td>6.3406538e7</td><td>[&quot;H04L47/70&quot;, &quot;H04L67/02&quot;, … &quot;H04W4/80&quot;]</td><td>2018</td><td>9</td></tr><tr><td>&quot;US-10083363-B2…</td><td>2018-09-25 00:00:00</td><td>2015-05-26 00:00:00</td><td>5.7397574e7</td><td>[&quot;G06K9/00892&quot;, &quot;G06T15/20&quot;, … &quot;G06V40/70&quot;]</td><td>2018</td><td>9</td></tr><tr><td>&quot;US-10182126-B2…</td><td>2019-01-15 00:00:00</td><td>2016-05-02 00:00:00</td><td>6.0158656e7</td><td>[&quot;G06F9/00&quot;, &quot;H04L67/04&quot;, … &quot;H04L67/59&quot;]</td><td>2019</td><td>1</td></tr><tr><td>&quot;US-10197576-B2…</td><td>2019-02-05 00:00:00</td><td>2011-11-08 00:00:00</td><td>4.5094438e7</td><td>[&quot;G01N2400/00&quot;, &quot;G01N33/6848&quot;]</td><td>2019</td><td>2</td></tr></tbody></table></div>"
      ],
      "text/plain": [
       "shape: (5, 7)\n",
       "┌─────────────────┬─────────────────┬────────────────┬─────────────┬────────────────┬──────┬───────┐\n",
       "│ publication_num ┆ publication_dat ┆ filing_date    ┆ family_id   ┆ cpc            ┆ year ┆ month │\n",
       "│ ber             ┆ e               ┆ ---            ┆ ---         ┆ ---            ┆ ---  ┆ ---   │\n",
       "│ ---             ┆ ---             ┆ datetime[μs]   ┆ f64         ┆ list[str]      ┆ i32  ┆ i8    │\n",
       "│ str             ┆ datetime[μs]    ┆                ┆             ┆                ┆      ┆       │\n",
       "╞═════════════════╪═════════════════╪════════════════╪═════════════╪════════════════╪══════╪═══════╡\n",
       "│ US-10015385-B2  ┆ 2018-07-03      ┆ 2017-05-18     ┆ 5.246991e7  ┆ [\"H04N21/4223\" ┆ 2018 ┆ 7     │\n",
       "│                 ┆ 00:00:00        ┆ 00:00:00       ┆             ┆ ,              ┆      ┆       │\n",
       "│                 ┆                 ┆                ┆             ┆ \"H04N21/4227\", ┆      ┆       │\n",
       "│                 ┆                 ┆                ┆             ┆ ……             ┆      ┆       │\n",
       "│ US-10075387-B1  ┆ 2018-09-11      ┆ 2015-06-03     ┆ 6.3406538e7 ┆ [\"H04L47/70\",  ┆ 2018 ┆ 9     │\n",
       "│                 ┆ 00:00:00        ┆ 00:00:00       ┆             ┆ \"H04L67/02\", … ┆      ┆       │\n",
       "│                 ┆                 ┆                ┆             ┆ \"H0…           ┆      ┆       │\n",
       "│ US-10083363-B2  ┆ 2018-09-25      ┆ 2015-05-26     ┆ 5.7397574e7 ┆ [\"G06K9/00892\" ┆ 2018 ┆ 9     │\n",
       "│                 ┆ 00:00:00        ┆ 00:00:00       ┆             ┆ , \"G06T15/20\", ┆      ┆       │\n",
       "│                 ┆                 ┆                ┆             ┆ … \"…           ┆      ┆       │\n",
       "│ US-10182126-B2  ┆ 2019-01-15      ┆ 2016-05-02     ┆ 6.0158656e7 ┆ [\"G06F9/00\",   ┆ 2019 ┆ 1     │\n",
       "│                 ┆ 00:00:00        ┆ 00:00:00       ┆             ┆ \"H04L67/04\", … ┆      ┆       │\n",
       "│                 ┆                 ┆                ┆             ┆ \"H04…          ┆      ┆       │\n",
       "│ US-10197576-B2  ┆ 2019-02-05      ┆ 2011-11-08     ┆ 4.5094438e7 ┆ [\"G01N2400/00\" ┆ 2019 ┆ 2     │\n",
       "│                 ┆ 00:00:00        ┆ 00:00:00       ┆             ┆ ,              ┆      ┆       │\n",
       "│                 ┆                 ┆                ┆             ┆ \"G01N33/6848\"] ┆      ┆       │\n",
       "└─────────────────┴─────────────────┴────────────────┴─────────────┴────────────────┴──────┴───────┘"
      ]
     },
     "execution_count": 5,
     "metadata": {},
     "output_type": "execute_result"
    }
   ],
   "source": [
    "meta.head()"
   ]
  },
  {
   "cell_type": "code",
   "execution_count": 6,
   "id": "142a34ce",
   "metadata": {
    "execution": {
     "iopub.execute_input": "2024-07-08T13:14:35.948408Z",
     "iopub.status.busy": "2024-07-08T13:14:35.947949Z",
     "iopub.status.idle": "2024-07-08T13:14:35.959484Z",
     "shell.execute_reply": "2024-07-08T13:14:35.958698Z"
    },
    "papermill": {
     "duration": 0.021238,
     "end_time": "2024-07-08T13:14:35.961342",
     "exception": false,
     "start_time": "2024-07-08T13:14:35.940104",
     "status": "completed"
    },
    "tags": []
   },
   "outputs": [
    {
     "data": {
      "text/plain": [
       "161"
      ]
     },
     "execution_count": 6,
     "metadata": {},
     "output_type": "execute_result"
    }
   ],
   "source": [
    "patents = []\n",
    "#calculates the number of unique combinations of year and month in the meta DataFrame.\n",
    "n_unique = meta.select([\"year\", \"month\"]).n_unique()\n",
    "n_unique"
   ]
  },
  {
   "cell_type": "code",
   "execution_count": 7,
   "id": "7f51acfe",
   "metadata": {
    "execution": {
     "iopub.execute_input": "2024-07-08T13:14:35.976280Z",
     "iopub.status.busy": "2024-07-08T13:14:35.976021Z",
     "iopub.status.idle": "2024-07-08T13:14:37.375126Z",
     "shell.execute_reply": "2024-07-08T13:14:37.374170Z"
    },
    "papermill": {
     "duration": 1.408968,
     "end_time": "2024-07-08T13:14:37.377256",
     "exception": false,
     "start_time": "2024-07-08T13:14:35.968288",
     "status": "completed"
    },
    "tags": []
   },
   "outputs": [
    {
     "name": "stderr",
     "output_type": "stream",
     "text": [
      "100%|██████████| 161/161 [00:01<00:00, 116.36it/s]\n"
     ]
    }
   ],
   "source": [
    "for (year, month), _ in tqdm(meta.group_by([\"year\", \"month\"]), total=n_unique):    \n",
    "    patent_path = comp_data_dir / f\"patent_data/{year}_{month}.parquet\"\n",
    "    # reads the Parquet file and excludes the claims and description columns.\n",
    "    patent = pl.scan_parquet(patent_path).select(pl.exclude([\"claims\", \"description\"]))\n",
    "    patents.append(patent)"
   ]
  },
  {
   "cell_type": "code",
   "execution_count": 8,
   "id": "572c93d5",
   "metadata": {
    "execution": {
     "iopub.execute_input": "2024-07-08T13:14:37.395477Z",
     "iopub.status.busy": "2024-07-08T13:14:37.395170Z",
     "iopub.status.idle": "2024-07-08T13:14:52.332585Z",
     "shell.execute_reply": "2024-07-08T13:14:52.331620Z"
    },
    "papermill": {
     "duration": 14.948961,
     "end_time": "2024-07-08T13:14:52.335045",
     "exception": false,
     "start_time": "2024-07-08T13:14:37.386084",
     "status": "completed"
    },
    "tags": []
   },
   "outputs": [],
   "source": [
    "#concatenates all the LazyFrames in the patents list into a single LazyFrame.\n",
    "patent: pl.LazyFrame = pl.concat(patents)\n",
    "\n",
    "# adds two new columns (claims and description) with empty string values to the patent LazyFrame.\n",
    "patent = patent.with_columns(\n",
    "    pl.lit(\"\").alias(\"claims\"),\n",
    "    pl.lit(\"\").alias(\"description\"),\n",
    ")\n",
    "\n",
    "#meta.lazy() converts the meta DataFrame to a LazyFrame for lazy evaluation.\n",
    "#join() performs a left join on meta and patent LazyFrames using the publication_number column.\n",
    "#collect() executes the lazy operations and collects the result into a DataFrame, enabling streaming for efficient memory usage.\n",
    "meta_with_text = (\n",
    "    meta.lazy().join(patent, on=\"publication_number\", how=\"left\").collect(streaming=True)\n",
    ")\n",
    "\n",
    "#Writing the Result to a Parquet File\n",
    "meta_with_text.write_parquet(\"meta_with_text.parquet\")\n"
   ]
  },
  {
   "cell_type": "code",
   "execution_count": 9,
   "id": "9af2ac5f",
   "metadata": {
    "execution": {
     "iopub.execute_input": "2024-07-08T13:14:52.353755Z",
     "iopub.status.busy": "2024-07-08T13:14:52.353458Z",
     "iopub.status.idle": "2024-07-08T13:14:53.159233Z",
     "shell.execute_reply": "2024-07-08T13:14:53.158484Z"
    },
    "papermill": {
     "duration": 0.816962,
     "end_time": "2024-07-08T13:14:53.161418",
     "exception": false,
     "start_time": "2024-07-08T13:14:52.344456",
     "status": "completed"
    },
    "tags": []
   },
   "outputs": [],
   "source": [
    "# converts the meta_with_text DataFrame to a list of dictionaries.\n",
    "documents = meta_with_text.to_dicts()\n",
    "\n",
    "#creates a directory named test_index, including any necessary parent directories.\n",
    "Path(\"test_index\").mkdir(parents=True, exist_ok=True)\n",
    "\n",
    "#creates an index in the test_index directory using the documents list. \n",
    "whoosh_utils.create_index(\"test_index\", documents)"
   ]
  },
  {
   "cell_type": "markdown",
   "id": "3de7055a",
   "metadata": {
    "papermill": {
     "duration": 0.008384,
     "end_time": "2024-07-08T13:14:53.179019",
     "exception": false,
     "start_time": "2024-07-08T13:14:53.170635",
     "status": "completed"
    },
    "tags": []
   },
   "source": [
    "# Annealing\n",
    "\n",
    "Optimize the query using the annealing method.\n",
    "\n",
    "For simplicity, we will create a query using only “OR”.\n",
    "This means that we will create a query “word1 OR word2 OR word3 OR ...”.\n",
    "\n",
    "We will use an annealing method to determine which words to use.\n",
    "The specific steps are as follows\n",
    "\n",
    "1. select topk words with high TFIDF values as candidates\n",
    "2. select the word with the maximum AP@50 using the annealing method\n",
    "3. Combine the selected words with “OR” to form a query"
   ]
  },
  {
   "cell_type": "code",
   "execution_count": 10,
   "id": "35d0d725",
   "metadata": {
    "execution": {
     "iopub.execute_input": "2024-07-08T13:14:53.196969Z",
     "iopub.status.busy": "2024-07-08T13:14:53.196660Z",
     "iopub.status.idle": "2024-07-08T13:14:53.224935Z",
     "shell.execute_reply": "2024-07-08T13:14:53.224247Z"
    },
    "papermill": {
     "duration": 0.039364,
     "end_time": "2024-07-08T13:14:53.226851",
     "exception": false,
     "start_time": "2024-07-08T13:14:53.187487",
     "status": "completed"
    },
    "tags": []
   },
   "outputs": [],
   "source": [
    "# https://github.com/perrygeo/simanneal/blob/master/simanneal/anneal.py\n",
    "from __future__ import absolute_import\n",
    "from __future__ import division\n",
    "from __future__ import print_function\n",
    "from __future__ import unicode_literals\n",
    "import abc\n",
    "import copy\n",
    "import datetime\n",
    "import math\n",
    "import pickle\n",
    "import random\n",
    "import signal\n",
    "import sys\n",
    "import time\n",
    "from typing import Any, List, Tuple\n",
    "\n",
    "\n",
    "\n",
    "def round_figures(x, n):\n",
    "    \"\"\"Returns x rounded to n significant figures.\"\"\"\n",
    "    return round(x, int(n - math.ceil(math.log10(abs(x)))))\n",
    "\n",
    "\n",
    "def time_string(seconds):\n",
    "    \"\"\"Returns time in seconds as a string formatted HHHH:MM:SS.\"\"\"\n",
    "    s = int(round(seconds))  # round to nearest second\n",
    "    h, s = divmod(s, 3600)  # get hours and remainder\n",
    "    m, s = divmod(s, 60)  # split remainder into minutes and seconds\n",
    "    return \"%4i:%02i:%02i\" % (h, m, s)\n",
    "\n",
    "# Simulated Annealing Base Class\n",
    "class Annealer(object):\n",
    "    __metaclass__ = abc.ABCMeta\n",
    "\n",
    "    Tmax = 25000.0\n",
    "    Tmin = 2.5\n",
    "    steps = 50000\n",
    "    max_time = 8  # seconds\n",
    "    updates = 100\n",
    "    copy_strategy = \"deepcopy\"\n",
    "    user_exit = False\n",
    "    save_state_on_exit = False\n",
    "\n",
    "    best_state = None\n",
    "    best_energy = None\n",
    "    start = None\n",
    "\n",
    "    def __init__(self, initial_state=None, load_state=None):\n",
    "        if initial_state is not None:\n",
    "            self.state = self.copy_state(initial_state)\n",
    "        elif load_state:\n",
    "            self.load_state(load_state)\n",
    "        else:\n",
    "            raise ValueError(\"No valid values supplied for neither initial_state nor load_state\")\n",
    "\n",
    "        signal.signal(signal.SIGINT, self.set_user_exit)\n",
    "\n",
    "    def save_state(self, fname=None):\n",
    "        if not fname:\n",
    "            date = datetime.datetime.now().strftime(\"%Y-%m-%dT%Hh%Mm%Ss\")\n",
    "            fname = date + \"_energy_\" + str(self.energy()) + \".state\"\n",
    "        with open(fname, \"wb\") as fh:\n",
    "            pickle.dump(self.state, fh)\n",
    "\n",
    "    def load_state(self, fname=None):\n",
    "        with open(fname, \"rb\") as fh:\n",
    "            self.state = pickle.load(fh)\n",
    "\n",
    "    @abc.abstractmethod\n",
    "    def move(self):\n",
    "        pass\n",
    "\n",
    "    @abc.abstractmethod\n",
    "    def energy(self):\n",
    "        pass\n",
    "\n",
    "    def set_user_exit(self, signum, frame):\n",
    "        self.user_exit = True\n",
    "\n",
    "    def set_schedule(self, schedule):\n",
    "        self.Tmax = schedule[\"tmax\"]\n",
    "        self.Tmin = schedule[\"tmin\"]\n",
    "        self.steps = int(schedule[\"steps\"])\n",
    "        self.updates = int(schedule[\"updates\"])\n",
    "\n",
    "    def copy_state(self, state):\n",
    "        if self.copy_strategy == \"deepcopy\":\n",
    "            return copy.deepcopy(state)\n",
    "        elif self.copy_strategy == \"slice\":\n",
    "            return state[:]\n",
    "        elif self.copy_strategy == \"method\":\n",
    "            return state.copy()\n",
    "        else:\n",
    "            raise RuntimeError(\"No implementation found for the self.copy_strategy\")\n",
    "\n",
    "    def update(self, *args, **kwargs):\n",
    "        self.default_update(*args, **kwargs)\n",
    "\n",
    "    def default_update(self, step, T, E, acceptance, improvement):\n",
    "        elapsed = time.time() - self.start\n",
    "        if step == 0:\n",
    "            print(\"\\n Temperature        Energy    Accept   Improve     Elapsed   Remaining\", file=sys.stderr)\n",
    "            print(\"\\r{Temp:12.5f}  {Energy:12.2f}                      {Elapsed:s}            \".format(\n",
    "                Temp=T, Energy=E, Elapsed=time_string(elapsed)), file=sys.stderr, end=\"\")\n",
    "            sys.stderr.flush()\n",
    "        else:\n",
    "            remain = (self.steps - step) * (elapsed / step)\n",
    "            print(\"\\r{Temp:12.5f}  {Energy:12.2f}   {Accept:7.2%}   {Improve:7.2%}  {Elapsed:s}  {Remaining:s}\".format(\n",
    "                Temp=T, Energy=E, Accept=acceptance, Improve=improvement, Elapsed=time_string(elapsed),\n",
    "                Remaining=time_string(remain)), file=sys.stderr, end=\"\")\n",
    "            sys.stderr.flush()\n",
    "\n",
    "    def anneal(self):\n",
    "        step = 0\n",
    "        self.start = time.time()\n",
    "\n",
    "        if self.Tmin <= 0.0:\n",
    "            raise Exception('Exponential cooling requires a minimum temperature greater than zero.')\n",
    "        Tfactor = -math.log(self.Tmax / self.Tmin)\n",
    "\n",
    "        T = self.Tmax\n",
    "        E = self.energy()\n",
    "        prevState = self.copy_state(self.state)\n",
    "        prevEnergy = E\n",
    "        self.best_state = self.copy_state(self.state)\n",
    "        self.best_energy = E\n",
    "        trials = accepts = improves = 0\n",
    "\n",
    "        if self.updates > 0:\n",
    "            updateWavelength = self.steps / self.updates\n",
    "            self.update(step, T, E, None, None)\n",
    "\n",
    "        while (step < self.steps) and (not self.user_exit) and ((time.time() - self.start) <= self.max_time):\n",
    "            step += 1\n",
    "            T = self.Tmax * math.exp(Tfactor * step / self.steps)\n",
    "            dE = self.move()\n",
    "            if dE is None:\n",
    "                E = self.energy()\n",
    "                dE = E - prevEnergy\n",
    "            else:\n",
    "                E += dE\n",
    "            trials += 1\n",
    "            if dE > 0.0 and math.exp(-dE / T) < random.random():\n",
    "                self.state = self.copy_state(prevState)\n",
    "                E = prevEnergy\n",
    "            else:\n",
    "                accepts += 1\n",
    "                if dE < 0.0:\n",
    "                    improves += 1\n",
    "                prevState = self.copy_state(self.state)\n",
    "                prevEnergy = E\n",
    "                if E < self.best_energy:\n",
    "                    self.best_state = self.copy_state(self.state)\n",
    "                    self.best_energy = E\n",
    "            if self.updates > 1:\n",
    "                if (step // updateWavelength) > ((step - 1) // updateWavelength):\n",
    "                    self.update(step, T, E, accepts / trials, improves / trials)\n",
    "                    trials = accepts = improves = 0\n",
    "\n",
    "        self.state = self.copy_state(self.best_state)\n",
    "        if self.save_state_on_exit:\n",
    "            self.save_state()\n",
    "\n",
    "        return self.best_state, self.best_energy"
   ]
  },
  {
   "cell_type": "code",
   "execution_count": 11,
   "id": "cad36f59",
   "metadata": {
    "execution": {
     "iopub.execute_input": "2024-07-08T13:14:53.244846Z",
     "iopub.status.busy": "2024-07-08T13:14:53.244243Z",
     "iopub.status.idle": "2024-07-08T13:14:53.252101Z",
     "shell.execute_reply": "2024-07-08T13:14:53.251441Z"
    },
    "papermill": {
     "duration": 0.018992,
     "end_time": "2024-07-08T13:14:53.254000",
     "exception": false,
     "start_time": "2024-07-08T13:14:53.235008",
     "status": "completed"
    },
    "tags": []
   },
   "outputs": [],
   "source": [
    "import pickle\n",
    "from dataclasses import dataclass\n",
    "from pathlib import Path\n",
    "\n",
    "import numpy as np\n",
    "\n",
    "from numpy.typing import NDArray\n",
    "import polars as pl\n",
    "from tqdm import tqdm\n",
    "from typing import Any\n",
    "import whoosh_utils"
   ]
  },
  {
   "cell_type": "code",
   "execution_count": 12,
   "id": "3d97a0ab",
   "metadata": {
    "execution": {
     "iopub.execute_input": "2024-07-08T13:14:53.271676Z",
     "iopub.status.busy": "2024-07-08T13:14:53.271376Z",
     "iopub.status.idle": "2024-07-08T13:14:53.289629Z",
     "shell.execute_reply": "2024-07-08T13:14:53.288770Z"
    },
    "papermill": {
     "duration": 0.02931,
     "end_time": "2024-07-08T13:14:53.291497",
     "exception": false,
     "start_time": "2024-07-08T13:14:53.262187",
     "status": "completed"
    },
    "tags": []
   },
   "outputs": [],
   "source": [
    "#This function selects the top k columns from a matrix X based on the sum of their values. It returns the selected columns and their indices.\n",
    "\n",
    "def select_top_k_columns(X: Any, k: int) -> tuple[Any, NDArray]:\n",
    "    row_sums = X.sum(axis=0)\n",
    "    top_k_indices = np.argsort(-row_sums.A1)[:k]\n",
    "    X_top = X[:, top_k_indices]\n",
    "    return X_top, top_k_indices\n",
    "\n",
    "\n",
    "\n",
    "#This calculates the average precision at 50 (AP@50) for a list of predictions and labels.\n",
    "def ap50(preds: list[str], labels: list[str]) -> float:\n",
    "    precisions = list()\n",
    "    n_found = 0\n",
    "    for e, i in enumerate(preds):\n",
    "        if i in labels:\n",
    "            n_found += 1\n",
    "        precisions.append(\n",
    "            n_found / (e + 1)\n",
    "        )  \n",
    "    return sum(precisions) / 50\n",
    "\n",
    "#A dataclass representing a word with a category and content.\n",
    "@dataclass\n",
    "class Word:\n",
    "    category: str\n",
    "    content: str\n",
    "    operator: str = \"OR\"\n",
    "\n",
    "    def to_str(self):\n",
    "        return f\"{self.category}:{self.content}\"\n",
    "\n",
    "@dataclass\n",
    "class State:\n",
    "    words: list[Word]\n",
    "\n",
    "    def __post_init__(self):\n",
    "        self.use = np.random.binomial(1, 0.5, len(self.words))\n",
    "        self.operators = [np.random.choice([\"OR\", \"AND\", \"NOT\"]) for _ in self.words]\n",
    "\n",
    "    def to_query(self):\n",
    "        selected_words = [(word, op) for word, use, op in zip(self.words, self.use, self.operators) if use]\n",
    "        \n",
    "        if not selected_words:\n",
    "            return \"\"\n",
    "\n",
    "        query_parts = [selected_words[0][0].to_str()]\n",
    "        for word, op in selected_words[1:]:\n",
    "            if op == \"NOT\":\n",
    "                query_parts.append(f\"{op} {word.to_str()}\")\n",
    "            else:\n",
    "                query_parts.append(f\"{op} {word.to_str()}\")\n",
    "\n",
    "        query = \" \".join(query_parts)\n",
    "        \n",
    "        return query\n",
    "\n",
    "    def move_1(self):\n",
    "        \"\"\"Change whether word is used or not\"\"\"\n",
    "        idx = np.random.choice(len(self.words))\n",
    "        self.use[idx] = 1 - self.use[idx]\n",
    "        return self\n",
    "\n",
    "    def move_2(self):\n",
    "        \"\"\"Change operator\"\"\"\n",
    "        idx = np.random.choice(len(self.operators))\n",
    "        self.operators[idx] = np.random.choice([\"OR\", \"AND\", \"NOT\"])\n",
    "        return self\n",
    "\n",
    "#This class extends the Annealer class to solve the USPTO problem. \n",
    "#It defines how to move between states and calculate the energy (which is the negative AP@50 score).\n",
    "\n",
    "class USPTOProblem(Annealer):\n",
    "    def __init__(\n",
    "        self,\n",
    "        qp: Any,\n",
    "        searcher: Any,\n",
    "        target: list[str],\n",
    "        init_state: State,\n",
    "        tmax: int = 30,\n",
    "        tmin: int = 10,\n",
    "        steps: int = 100,\n",
    "        max_time: int = 8,\n",
    "        copy_strategy: str = \"deepcopy\",\n",
    "    ):\n",
    "        super(USPTOProblem, self).__init__(init_state)\n",
    "        self.qp = qp\n",
    "        self.searcher = searcher\n",
    "        self.target = target\n",
    "        self.Tmax = tmax\n",
    "        self.Tmin = tmin\n",
    "        self.steps = steps\n",
    "        self.max_time = max_time\n",
    "        self.copy_strategy = copy_strategy\n",
    "\n",
    "    def move(self):\n",
    "        self.state.move_1()\n",
    "\n",
    "    def energy(self):\n",
    "        query = self.state.to_query()\n",
    "        cand = whoosh_utils.execute_query(query, self.qp, self.searcher)\n",
    "        ap50_score = ap50(cand, self.target)\n",
    "\n",
    "        return -ap50_score"
   ]
  },
  {
   "cell_type": "code",
   "execution_count": 13,
   "id": "48db35c6",
   "metadata": {
    "execution": {
     "iopub.execute_input": "2024-07-08T13:14:53.308690Z",
     "iopub.status.busy": "2024-07-08T13:14:53.308447Z",
     "iopub.status.idle": "2024-07-08T13:14:54.689636Z",
     "shell.execute_reply": "2024-07-08T13:14:54.688768Z"
    },
    "papermill": {
     "duration": 1.392359,
     "end_time": "2024-07-08T13:14:54.691933",
     "exception": false,
     "start_time": "2024-07-08T13:14:53.299574",
     "status": "completed"
    },
    "tags": []
   },
   "outputs": [
    {
     "name": "stderr",
     "output_type": "stream",
     "text": [
      "/opt/conda/lib/python3.10/site-packages/sklearn/base.py:318: UserWarning: Trying to unpickle estimator TfidfTransformer from version 1.4.2 when using version 1.2.2. This might lead to breaking code or invalid results. Use at your own risk. For more info please refer to:\n",
      "https://scikit-learn.org/stable/model_persistence.html#security-maintainability-limitations\n",
      "  warnings.warn(\n",
      "/opt/conda/lib/python3.10/site-packages/sklearn/base.py:318: UserWarning: Trying to unpickle estimator TfidfVectorizer from version 1.4.2 when using version 1.2.2. This might lead to breaking code or invalid results. Use at your own risk. For more info please refer to:\n",
      "https://scikit-learn.org/stable/model_persistence.html#security-maintainability-limitations\n",
      "  warnings.warn(\n",
      "/opt/conda/lib/python3.10/site-packages/sklearn/base.py:318: UserWarning: Trying to unpickle estimator CountVectorizer from version 1.4.2 when using version 1.2.2. This might lead to breaking code or invalid results. Use at your own risk. For more info please refer to:\n",
      "https://scikit-learn.org/stable/model_persistence.html#security-maintainability-limitations\n",
      "  warnings.warn(\n",
      "/opt/conda/lib/python3.10/site-packages/sklearn/base.py:318: UserWarning: Trying to unpickle estimator Pipeline from version 1.4.2 when using version 1.2.2. This might lead to breaking code or invalid results. Use at your own risk. For more info please refer to:\n",
      "https://scikit-learn.org/stable/model_persistence.html#security-maintainability-limitations\n",
      "  warnings.warn(\n"
     ]
    }
   ],
   "source": [
    "comp_data_dir = Path(\"/kaggle/input/uspto-explainable-ai\")\n",
    "tfidf_dir = Path(\"/kaggle/input/uspto-ti-cpc-tfidf\")\n",
    "\n",
    "# nearest neighbors and meta\n",
    "test = pl.read_csv(comp_data_dir / \"test.csv\")\n",
    "test_meta = pl.read_parquet(\"meta_with_text.parquet\")\n",
    "\n",
    "# test index\n",
    "test_idx = whoosh_utils.load_index(\"./test_index\")\n",
    "searcher = whoosh_utils.get_searcher(test_idx)\n",
    "qp = whoosh_utils.get_query_parser()\n",
    "\n",
    "\n",
    "# for tfidf pickle\n",
    "def identity(x: Any) -> Any:\n",
    "    return x\n",
    "\n",
    "with open(tfidf_dir / \"tfidf.pkl\", \"rb\") as f:\n",
    "    ti_tfidf = pickle.load(f)\n",
    "with open(tfidf_dir / \"cpc_cv_tfidf.pkl\", \"rb\") as f:\n",
    "    cpc_cv_tfidf = pickle.load(f)"
   ]
  },
  {
   "cell_type": "code",
   "execution_count": 14,
   "id": "e51678c5",
   "metadata": {
    "execution": {
     "iopub.execute_input": "2024-07-08T13:14:54.710250Z",
     "iopub.status.busy": "2024-07-08T13:14:54.709937Z",
     "iopub.status.idle": "2024-07-08T13:15:39.337448Z",
     "shell.execute_reply": "2024-07-08T13:15:39.336400Z"
    },
    "papermill": {
     "duration": 44.638827,
     "end_time": "2024-07-08T13:15:39.339405",
     "exception": false,
     "start_time": "2024-07-08T13:14:54.700578",
     "status": "completed"
    },
    "tags": []
   },
   "outputs": [
    {
     "name": "stderr",
     "output_type": "stream",
     "text": [
      "  0%|          | 0/10 [00:00<?, ?it/s]\n",
      " Temperature        Energy    Accept   Improve     Elapsed   Remaining\n",
      " 10%|█         | 1/10 [00:06<00:56,  6.33s/it]"
     ]
    },
    {
     "name": "stdout",
     "output_type": "stream",
     "text": [
      "\t Problem Number 0 Score: 0.44\n"
     ]
    },
    {
     "name": "stderr",
     "output_type": "stream",
     "text": [
      "\n",
      " Temperature        Energy    Accept   Improve     Elapsed   Remaining\n",
      " 20%|██        | 2/10 [00:11<00:47,  5.92s/it]"
     ]
    },
    {
     "name": "stdout",
     "output_type": "stream",
     "text": [
      "\t Problem Number 1 Score: 0.8221393988251116\n"
     ]
    },
    {
     "name": "stderr",
     "output_type": "stream",
     "text": [
      "\n",
      " Temperature        Energy    Accept   Improve     Elapsed   Remaining\n",
      " 30%|███       | 3/10 [00:17<00:40,  5.77s/it]"
     ]
    },
    {
     "name": "stdout",
     "output_type": "stream",
     "text": [
      "\t Problem Number 2 Score: 0.8390360046457608\n"
     ]
    },
    {
     "name": "stderr",
     "output_type": "stream",
     "text": [
      "\n",
      " Temperature        Energy    Accept   Improve     Elapsed   Remaining\n",
      " 40%|████      | 4/10 [00:23<00:34,  5.71s/it]"
     ]
    },
    {
     "name": "stdout",
     "output_type": "stream",
     "text": [
      "\t Problem Number 3 Score: 0.7703222428738323\n",
      "\t Append Dummy 4\n"
     ]
    },
    {
     "name": "stderr",
     "output_type": "stream",
     "text": [
      "\n",
      " Temperature        Energy    Accept   Improve     Elapsed   Remaining\n",
      " 60%|██████    | 6/10 [00:28<00:16,  4.17s/it]"
     ]
    },
    {
     "name": "stdout",
     "output_type": "stream",
     "text": [
      "\t Problem Number 5 Score: 0.08033333333333333\n"
     ]
    },
    {
     "name": "stderr",
     "output_type": "stream",
     "text": [
      "\n",
      " Temperature        Energy    Accept   Improve     Elapsed   Remaining\n",
      " 70%|███████   | 7/10 [00:33<00:13,  4.35s/it]"
     ]
    },
    {
     "name": "stdout",
     "output_type": "stream",
     "text": [
      "\t Problem Number 6 Score: 0.04\n"
     ]
    },
    {
     "name": "stderr",
     "output_type": "stream",
     "text": [
      "\n",
      " Temperature        Energy    Accept   Improve     Elapsed   Remaining\n",
      " 80%|████████  | 8/10 [00:38<00:09,  4.64s/it]"
     ]
    },
    {
     "name": "stdout",
     "output_type": "stream",
     "text": [
      "\t Problem Number 7 Score: 0.18\n"
     ]
    },
    {
     "name": "stderr",
     "output_type": "stream",
     "text": [
      "\n",
      " Temperature        Energy    Accept   Improve     Elapsed   Remaining\n",
      "100%|██████████| 10/10 [00:44<00:00,  4.46s/it]"
     ]
    },
    {
     "name": "stdout",
     "output_type": "stream",
     "text": [
      "\t Problem Number 8 Score: 0.543721149281371\n",
      "\t Append Dummy 9\n",
      "Average Score: 0.46444401611992614\n"
     ]
    },
    {
     "name": "stderr",
     "output_type": "stream",
     "text": [
      "\n"
     ]
    }
   ],
   "source": [
    "scores = []\n",
    "results = []\n",
    "\n",
    "for i in tqdm(range(len(test))):\n",
    "    target = test[i].to_numpy().flatten()[1:].tolist()\n",
    "    meta_i = test_meta.filter(pl.col(\"publication_number\").is_in(target))\n",
    "\n",
    "    if len(meta_i) == 0:\n",
    "        results.append({\"publication_number\": test[i, \"publication_number\"], \"query\": \"ti:device\"})\n",
    "        print(\"\\t Append Dummy\", i)\n",
    "        continue\n",
    "\n",
    "    # TF-IDF matrix\n",
    "    ti_mat = ti_tfidf.transform(meta_i.get_column(\"title\").fill_null(\"\"))\n",
    "    cpc_mat = cpc_cv_tfidf.transform(meta_i.get_column(\"cpc\"))\n",
    "\n",
    "    # Important topk words\n",
    "    X_ti, idx = select_top_k_columns(ti_mat, k=10)\n",
    "    X_cpc, cpc_idx = select_top_k_columns(cpc_mat, k=10)\n",
    "\n",
    "    # Initialize State with topk words and assign random operators\n",
    "    topk_words = ti_tfidf.get_feature_names_out()[idx].tolist()\n",
    "    topk_cpc = cpc_cv_tfidf.get_feature_names_out()[cpc_idx]\n",
    "    \n",
    "    topk_words = [Word(category=\"ti\", content=x) for x in topk_words]\n",
    "    topk_cpc = [Word(category=\"cpc\", content=x) for x in topk_cpc]\n",
    "    \n",
    "    words = topk_words + topk_cpc\n",
    "    state = State(words=words)\n",
    "\n",
    "    # Determine which words to use using the annealing method\n",
    "    problem = USPTOProblem(qp, searcher, target, state, steps=1000, max_time=5)\n",
    "    solution, score = problem.anneal()\n",
    "    print(f\"\\t Problem Number {i} Score:\", -score)\n",
    "    scores.append(-score)\n",
    "\n",
    "    # save publication number and query\n",
    "    results.append(\n",
    "        {\"publication_number\": test[i, \"publication_number\"], \"query\": solution.to_query()}\n",
    "    )\n",
    "\n",
    "print(\"Average Score:\", sum(scores) / len(scores))\n"
   ]
  },
  {
   "cell_type": "code",
   "execution_count": 15,
   "id": "6311b639",
   "metadata": {
    "execution": {
     "iopub.execute_input": "2024-07-08T13:15:39.471101Z",
     "iopub.status.busy": "2024-07-08T13:15:39.470234Z",
     "iopub.status.idle": "2024-07-08T13:15:40.486771Z",
     "shell.execute_reply": "2024-07-08T13:15:40.485448Z"
    },
    "papermill": {
     "duration": 1.084458,
     "end_time": "2024-07-08T13:15:40.489248",
     "exception": false,
     "start_time": "2024-07-08T13:15:39.404790",
     "status": "completed"
    },
    "tags": []
   },
   "outputs": [],
   "source": [
    "# Remove unwanted files and directories that may cause submission errors\n",
    "!rm -rf /kaggle/working/*"
   ]
  },
  {
   "cell_type": "code",
   "execution_count": 16,
   "id": "f5deed73",
   "metadata": {
    "execution": {
     "iopub.execute_input": "2024-07-08T13:15:40.621695Z",
     "iopub.status.busy": "2024-07-08T13:15:40.621324Z",
     "iopub.status.idle": "2024-07-08T13:15:40.629382Z",
     "shell.execute_reply": "2024-07-08T13:15:40.628687Z"
    },
    "papermill": {
     "duration": 0.076826,
     "end_time": "2024-07-08T13:15:40.631365",
     "exception": false,
     "start_time": "2024-07-08T13:15:40.554539",
     "status": "completed"
    },
    "tags": []
   },
   "outputs": [],
   "source": [
    "submission = pl.DataFrame(results)\n",
    "submission.write_csv(\"submission.csv\")\n",
    "\n",
    "\n"
   ]
  },
  {
   "cell_type": "code",
   "execution_count": 17,
   "id": "52e6ffcc",
   "metadata": {
    "execution": {
     "iopub.execute_input": "2024-07-08T13:15:40.761846Z",
     "iopub.status.busy": "2024-07-08T13:15:40.761194Z",
     "iopub.status.idle": "2024-07-08T13:15:40.768915Z",
     "shell.execute_reply": "2024-07-08T13:15:40.768122Z"
    },
    "papermill": {
     "duration": 0.075288,
     "end_time": "2024-07-08T13:15:40.770948",
     "exception": false,
     "start_time": "2024-07-08T13:15:40.695660",
     "status": "completed"
    },
    "tags": []
   },
   "outputs": [
    {
     "data": {
      "text/html": [
       "<div><style>\n",
       ".dataframe > thead > tr,\n",
       ".dataframe > tbody > tr {\n",
       "  text-align: right;\n",
       "  white-space: pre-wrap;\n",
       "}\n",
       "</style>\n",
       "<small>shape: (10, 2)</small><table border=\"1\" class=\"dataframe\"><thead><tr><th>publication_number</th><th>query</th></tr><tr><td>str</td><td>str</td></tr></thead><tbody><tr><td>&quot;US-2017082634-…</td><td>&quot;ti:mass OR ti:…</td></tr><tr><td>&quot;US-2017180470-…</td><td>&quot;ti:method OR t…</td></tr><tr><td>&quot;US-2018029544-…</td><td>&quot;ti:module OR t…</td></tr><tr><td>&quot;US-2022408153-…</td><td>&quot;ti:user OR ti:…</td></tr><tr><td>&quot;US-2268569-A&quot;</td><td>&quot;ti:device&quot;</td></tr><tr><td>&quot;US-3371854-A&quot;</td><td>&quot;ti:ion NOT ti:…</td></tr><tr><td>&quot;US-3589189-A&quot;</td><td>&quot;ti:meter AND t…</td></tr><tr><td>&quot;US-3881203-A&quot;</td><td>&quot;ti:holder OR t…</td></tr><tr><td>&quot;US-4845770-A&quot;</td><td>&quot;ti:optical OR …</td></tr><tr><td>&quot;US-695233-A&quot;</td><td>&quot;ti:device&quot;</td></tr></tbody></table></div>"
      ],
      "text/plain": [
       "shape: (10, 2)\n",
       "┌────────────────────┬───────────────────────────────────┐\n",
       "│ publication_number ┆ query                             │\n",
       "│ ---                ┆ ---                               │\n",
       "│ str                ┆ str                               │\n",
       "╞════════════════════╪═══════════════════════════════════╡\n",
       "│ US-2017082634-A1   ┆ ti:mass OR ti:spectrometry AND t… │\n",
       "│ US-2017180470-A1   ┆ ti:method OR ti:device OR ti:ele… │\n",
       "│ US-2018029544-A1   ┆ ti:module OR ti:cell AND ti:batt… │\n",
       "│ US-2022408153-A1   ┆ ti:user OR ti:program OR ti:meth… │\n",
       "│ US-2268569-A       ┆ ti:device                         │\n",
       "│ US-3371854-A       ┆ ti:ion NOT ti:pyroelectric OR ti… │\n",
       "│ US-3589189-A       ┆ ti:meter AND ti:flow OR ti:gas O… │\n",
       "│ US-3881203-A       ┆ ti:holder OR ti:binder OR ti:boo… │\n",
       "│ US-4845770-A       ┆ ti:optical OR ti:apparatus OR ti… │\n",
       "│ US-695233-A        ┆ ti:device                         │\n",
       "└────────────────────┴───────────────────────────────────┘"
      ]
     },
     "execution_count": 17,
     "metadata": {},
     "output_type": "execute_result"
    }
   ],
   "source": [
    "submission"
   ]
  },
  {
   "cell_type": "code",
   "execution_count": 18,
   "id": "f4e78e09",
   "metadata": {
    "execution": {
     "iopub.execute_input": "2024-07-08T13:15:40.945768Z",
     "iopub.status.busy": "2024-07-08T13:15:40.945041Z",
     "iopub.status.idle": "2024-07-08T13:15:40.950798Z",
     "shell.execute_reply": "2024-07-08T13:15:40.949959Z"
    },
    "papermill": {
     "duration": 0.117621,
     "end_time": "2024-07-08T13:15:40.952780",
     "exception": false,
     "start_time": "2024-07-08T13:15:40.835159",
     "status": "completed"
    },
    "tags": []
   },
   "outputs": [
    {
     "data": {
      "text/plain": [
       "'ti:method OR ti:device OR ti:electronic OR cpc:H04L67/42 OR cpc:H04L67/104 OR cpc:H04L67/10'"
      ]
     },
     "execution_count": 18,
     "metadata": {},
     "output_type": "execute_result"
    }
   ],
   "source": [
    "submission[1]['query'][0]"
   ]
  },
  {
   "cell_type": "code",
   "execution_count": null,
   "id": "6c3a463f",
   "metadata": {
    "papermill": {
     "duration": 0.082602,
     "end_time": "2024-07-08T13:15:41.099926",
     "exception": false,
     "start_time": "2024-07-08T13:15:41.017324",
     "status": "completed"
    },
    "tags": []
   },
   "outputs": [],
   "source": []
  }
 ],
 "metadata": {
  "kaggle": {
   "accelerator": "nvidiaTeslaT4",
   "dataSources": [
    {
     "databundleVersionId": 8060720,
     "sourceId": 59575,
     "sourceType": "competition"
    },
    {
     "datasetId": 4892374,
     "sourceId": 8246447,
     "sourceType": "datasetVersion"
    },
    {
     "datasetId": 5007812,
     "sourceId": 8413600,
     "sourceType": "datasetVersion"
    },
    {
     "datasetId": 4517815,
     "sourceId": 8479599,
     "sourceType": "datasetVersion"
    },
    {
     "datasetId": 5109610,
     "sourceId": 8553271,
     "sourceType": "datasetVersion"
    },
    {
     "sourceId": 174185912,
     "sourceType": "kernelVersion"
    },
    {
     "sourceId": 185059897,
     "sourceType": "kernelVersion"
    }
   ],
   "dockerImageVersionId": 30699,
   "isGpuEnabled": true,
   "isInternetEnabled": false,
   "language": "python",
   "sourceType": "notebook"
  },
  "kernelspec": {
   "display_name": "Python 3",
   "language": "python",
   "name": "python3"
  },
  "language_info": {
   "codemirror_mode": {
    "name": "ipython",
    "version": 3
   },
   "file_extension": ".py",
   "mimetype": "text/x-python",
   "name": "python",
   "nbconvert_exporter": "python",
   "pygments_lexer": "ipython3",
   "version": "3.10.13"
  },
  "papermill": {
   "default_parameters": {},
   "duration": 138.329852,
   "end_time": "2024-07-08T13:15:41.685463",
   "environment_variables": {},
   "exception": null,
   "input_path": "__notebook__.ipynb",
   "output_path": "__notebook__.ipynb",
   "parameters": {},
   "start_time": "2024-07-08T13:13:23.355611",
   "version": "2.5.0"
  }
 },
 "nbformat": 4,
 "nbformat_minor": 5
}
